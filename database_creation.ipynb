{
 "cells": [
  {
   "cell_type": "code",
   "execution_count": 1,
   "id": "18870fa3",
   "metadata": {},
   "outputs": [],
   "source": [
    "## creating generic database\n",
    "# importing pandas and numpy\n",
    "import pandas as pd\n",
    "import numpy as np"
   ]
  },
  {
   "cell_type": "code",
   "execution_count": 2,
   "id": "dd85870b",
   "metadata": {},
   "outputs": [],
   "source": [
    "# setting seed for reproducibility\n",
    "np.random.seed(42)\n",
    "\n",
    "# creating monthly date range for one year\n",
    "months = pd.date_range(start=\"2025-01-01\", end=\"2025-12-01\", freq=\"MS\").strftime(\"%Y-%m\").tolist()\n",
    "\n",
    "# creating departments or business units\n",
    "departments = [\"Sales\", \"Marketing\", \"R&D\", \"Operations\", \"HR\"]"
   ]
  },
  {
   "cell_type": "code",
   "execution_count": 3,
   "id": "bf27ba80",
   "metadata": {},
   "outputs": [],
   "source": [
    "# creating budget data\n",
    "budget_data = []\n",
    "for dept in departments:\n",
    "    for month in months:\n",
    "        revenue = np.random.normal(loc=200000, scale=20000)\n",
    "        expenses = np.random.normal(loc=150000, scale=15000)\n",
    "        budget_data.append([month, dept, round(revenue, 2), round(expenses, 2)])\n",
    "\n",
    "# create actuals with deviations\n",
    "actuals_data = []\n",
    "for dept in departments:\n",
    "    for month in months:\n",
    "        revenue = np.random.normal(loc=205000, scale=25000)\n",
    "        expenses = np.random.normal(loc=155000, scale=18000)\n",
    "        actuals_data.append([month, dept, round(revenue, 2), round(expenses, 2)])\n",
    "\n",
    "# convert all to dataframes\n",
    "budget_df = pd.DataFrame(budget_data, columns=[\"month\", \"department\", \"budget_revenue\", \"budget_expenses\"])\n",
    "actuals_df = pd.DataFrame(actuals_data, columns=[\"month\", \"department\", \"actual_revenue\", \"actual_expenses\"])"
   ]
  },
  {
   "cell_type": "code",
   "execution_count": null,
   "id": "96fad087",
   "metadata": {},
   "outputs": [
    {
     "name": "stdout",
     "output_type": "stream",
     "text": [
      "     month department  budget_revenue  budget_expenses\n",
      "0  2025-01      Sales       209934.28        147926.04\n",
      "1  2025-02      Sales       212953.77        172845.45\n",
      "2  2025-03      Sales       195316.93        146487.95\n",
      "3  2025-04      Sales       231584.26        161511.52\n",
      "4  2025-05      Sales       190610.51        158138.40\n",
      "     month department  actual_revenue  actual_expenses\n",
      "0  2025-01      Sales       224775.80        138631.03\n",
      "1  2025-02      Sales       240069.86        129766.68\n",
      "2  2025-03      Sales       219671.43        194428.20\n",
      "3  2025-04      Sales       180236.59        144806.64\n",
      "4  2025-05      Sales       207491.28        145937.44\n"
     ]
    }
   ],
   "source": [
    "# printing heads\n",
    "print(budget_df.head())\n",
    "print(actuals_df.head())"
   ]
  },
  {
   "cell_type": "code",
   "execution_count": 6,
   "id": "9324a4b0",
   "metadata": {},
   "outputs": [
    {
     "data": {
      "text/plain": [
       "('budget.xls', 'actuals.xls')"
      ]
     },
     "execution_count": 6,
     "metadata": {},
     "output_type": "execute_result"
    }
   ],
   "source": [
    "# save to xls\n",
    "budget_path = \"budget.xls\"\n",
    "actuals_path = \"actuals.xls\"\n",
    "\n",
    "budget_df.to_excel(budget_path, index=False)\n",
    "actuals_df.to_excel(actuals_path, index=False)\n",
    "\n",
    "budget_path, actuals_path"
   ]
  },
  {
   "cell_type": "code",
   "execution_count": 7,
   "id": "e6b12215",
   "metadata": {},
   "outputs": [
    {
     "data": {
      "text/plain": [
       "('budget.csv', 'actuals.csv')"
      ]
     },
     "execution_count": 7,
     "metadata": {},
     "output_type": "execute_result"
    }
   ],
   "source": [
    "# alternatively - save to CSVs\n",
    "budget_path = \"budget.csv\"\n",
    "actuals_path = \"actuals.csv\"\n",
    "\n",
    "budget_df.to_csv(budget_path, index=False)\n",
    "actuals_df.to_csv(actuals_path, index=False)\n",
    "\n",
    "budget_path, actuals_path"
   ]
  }
 ],
 "metadata": {
  "kernelspec": {
   "display_name": "base",
   "language": "python",
   "name": "python3"
  },
  "language_info": {
   "codemirror_mode": {
    "name": "ipython",
    "version": 3
   },
   "file_extension": ".py",
   "mimetype": "text/x-python",
   "name": "python",
   "nbconvert_exporter": "python",
   "pygments_lexer": "ipython3",
   "version": "3.7.0"
  }
 },
 "nbformat": 4,
 "nbformat_minor": 5
}
